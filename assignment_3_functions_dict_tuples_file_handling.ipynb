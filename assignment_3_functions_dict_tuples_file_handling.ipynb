{
 "cells": [
  {
   "cell_type": "markdown",
   "metadata": {},
   "source": [
    "<h2 align=\"center\" style=\"color:blue\">Codebasics Python Course: Exercise - Functions, Dict, Tuples, File Handling</h2>"
   ]
  },
  {
   "cell_type": "markdown",
   "metadata": {},
   "source": [
    "Imagine you run a loyalty program where customers earn rewards based on the total amount they have spent. The rewards levels are defined based on the total purchase amount. Based on this scenario, complete the following tasks"
   ]
  },
  {
   "cell_type": "markdown",
   "metadata": {},
   "source": [
    "### Task 1\n",
    "\n",
    "You are given a file called ```customers.txt``` that contains the name of the customer and total amount they spent. Read this file line by line and save the customer name and total amount in a dictionary.\n",
    "\n",
    "For example, customers.txt file will content the data in the following format,\n",
    "```\n",
    "Srinivas,120\n",
    "John,250\n",
    "Maria,150\n",
    "Smith,510\n",
    "Anjali,45\n",
    "```\n",
    "\n",
    "You will read this and build a dictionary like this,\n",
    "```\n",
    "{\n",
    "    \"Srinivas\": 120,\n",
    "    \"John\": 250,\n",
    "    \"Maria\": 150,\n",
    "    \"Smith\": 510,\n",
    "    \"Anjali\": 45\n",
    "}\n",
    "```"
   ]
  },
  {
   "cell_type": "code",
   "execution_count": 9,
   "metadata": {},
   "outputs": [
    {
     "name": "stdout",
     "output_type": "stream",
     "text": [
      "{'Srinivas': 120, 'John': 250, 'Maria': 150, 'Smith': 510, 'Anjali': 45}\n"
     ]
    }
   ],
   "source": [
    "# write your code here\n",
    "\n",
    "customer_spent = {}\n",
    "\n",
    "with open('customers.txt', \"r\") as f:\n",
    "    for line in f:\n",
    "        customers, amount = line.split(\",\")\n",
    "        customer_spent[customers] = int(amount.strip())\n",
    "        \n",
    "print(customer_spent)"
   ]
  },
  {
   "cell_type": "markdown",
   "metadata": {},
   "source": [
    "### Task 2\n",
    "\n",
    "The rewards levels are defined below based on the total purchase amount. Using this define a function called calculate_rewards that takes total as input and returns the reward.\n",
    "\n",
    "```\n",
    "1. Bronze: Total purchases $100-$199\n",
    "1. Silver: Total purchases $200-$499\n",
    "1. Gold: Total purchases $500+\n",
    "```"
   ]
  },
  {
   "cell_type": "code",
   "execution_count": 76,
   "metadata": {},
   "outputs": [],
   "source": [
    "# write your code here\n",
    "\n",
    "def calculate_rewards(amount):\n",
    "    if amount >= 500:\n",
    "        return \"Gold\"\n",
    "    elif amount >= 200:\n",
    "        return \"Silver\"\n",
    "    elif amount >= 100:\n",
    "        return \"Bronze\"\n",
    "    else:\n",
    "        \"None\""
   ]
  },
  {
   "cell_type": "markdown",
   "metadata": {},
   "source": [
    "### Task 3\n",
    "\n",
    "Now for each of the customers in our customers_dict, calculate the rewards and build a customers_summary dictionary that looks like the following, (key is the name of the customer and the value is a tuple containing total amount and rewards level)\n",
    "\n",
    "```\n",
    "{\n",
    "    'Srinivas': (120, 'Bronze'),\n",
    "    'John': (250, 'Silver'),\n",
    "    'Maria': (150, 'Bronze'),\n",
    "    'Smith': (510, 'Gold'),\n",
    "    'Anjali': (45, 'None')\n",
    "}\n",
    "```"
   ]
  },
  {
   "cell_type": "code",
   "execution_count": 79,
   "metadata": {},
   "outputs": [
    {
     "data": {
      "text/plain": [
       "{'Srinivas': (120, 'Bronze'),\n",
       " 'John': (250, 'Silver'),\n",
       " 'Maria': (150, 'Bronze'),\n",
       " 'Smith': (510, 'Gold'),\n",
       " 'Anjali': (45, None)}"
      ]
     },
     "execution_count": 79,
     "metadata": {},
     "output_type": "execute_result"
    }
   ],
   "source": [
    "# write your code here\n",
    "customers_summary = {}\n",
    "\n",
    "for customers, amount in customer_spent.items():\n",
    "    reward_level = calculate_rewards(amount)\n",
    "    customers_summary[customers] = (amount, reward_level)\n",
    "\n",
    "customers_summary"
   ]
  },
  {
   "cell_type": "markdown",
   "metadata": {},
   "source": [
    "### Task 4\n",
    "\n",
    "Now stitch all of the above code together and create a function that takes file name as input and returns the customer_summary dictionary.\n",
    "\n",
    "```\n",
    "def process_customer_data(file_name):\n",
    "    # return customer_summary dict\n",
    "```"
   ]
  },
  {
   "cell_type": "code",
   "execution_count": 22,
   "metadata": {},
   "outputs": [],
   "source": [
    "# write your code here\n",
    "def process_customer_data_1(file_name):\n",
    "    \n",
    "    # this opens the file, reads and then cleans it and stores in customer_spent dict:\n",
    "    customer_spent = {}\n",
    "    \n",
    "    with open(file_name, \"r\") as f:\n",
    "        for line in f:\n",
    "            customers, amount = line.split(\",\")  # splite by whitespace or newlines\n",
    "            customer_spent[customers] = int(amount.strip())\n",
    "            \n",
    "    # Function to calculate rewards based on the amount\n",
    "    def calculate_rewards(amount):\n",
    "        if amount >= 500:\n",
    "            return \"Gold\"\n",
    "        elif amount >= 200:\n",
    "            return \"Silver\"\n",
    "        elif amount >= 100:\n",
    "            return \"Bronze\"\n",
    "        else:\n",
    "            return \"None\"\n",
    "        \n",
    "    \n",
    "    # Building the customers_summary dictionary    \n",
    "    customers_summary = {}\n",
    "\n",
    "    for customers, amount in customer_spent.items():\n",
    "        reward_level = calculate_rewards(amount)  # Calculate the reward level\n",
    "        customers_summary[customers] = (amount, reward_level)   # Add to summary\n",
    "\n",
    "    return customers_summary"
   ]
  },
  {
   "cell_type": "code",
   "execution_count": 23,
   "metadata": {},
   "outputs": [
    {
     "data": {
      "text/plain": [
       "{'Alice': (120, 'Bronze'),\n",
       " 'Bob': (750, 'Gold'),\n",
       " 'Charlie': (300, 'Silver'),\n",
       " 'Diana': (90, 'None'),\n",
       " 'Edward': (510, 'Gold'),\n",
       " 'Fiona': (450, 'Silver'),\n",
       " 'George': (680, 'Gold'),\n",
       " 'Hannah': (50, 'None'),\n",
       " 'Irene': (250, 'Silver'),\n",
       " 'Jack': (1000, 'Gold')}"
      ]
     },
     "execution_count": 23,
     "metadata": {},
     "output_type": "execute_result"
    }
   ],
   "source": [
    "process_customer_data_1(\"score_table.txt\")"
   ]
  },
  {
   "cell_type": "code",
   "execution_count": null,
   "metadata": {},
   "outputs": [],
   "source": []
  }
 ],
 "metadata": {
  "colab": {
   "collapsed_sections": [],
   "name": "1_Variables.ipynb",
   "provenance": []
  },
  "kernelspec": {
   "display_name": "Python 3 (ipykernel)",
   "language": "python",
   "name": "python3"
  },
  "language_info": {
   "codemirror_mode": {
    "name": "ipython",
    "version": 3
   },
   "file_extension": ".py",
   "mimetype": "text/x-python",
   "name": "python",
   "nbconvert_exporter": "python",
   "pygments_lexer": "ipython3",
   "version": "3.11.3"
  }
 },
 "nbformat": 4,
 "nbformat_minor": 1
}
